{
  "nbformat": 4,
  "nbformat_minor": 0,
  "metadata": {
    "colab": {
      "provenance": []
    },
    "kernelspec": {
      "name": "python3",
      "display_name": "Python 3"
    },
    "language_info": {
      "name": "python"
    }
  },
  "cells": [
    {
      "cell_type": "code",
      "execution_count": null,
      "metadata": {
        "colab": {
          "base_uri": "https://localhost:8080/"
        },
        "id": "9jTE0IvBZ-J7",
        "outputId": "06142eec-7036-4791-9761-8ff22e84468c"
      },
      "outputs": [
        {
          "output_type": "stream",
          "name": "stdout",
          "text": [
            "The sum of even numbers in the list is: 30\n"
          ]
        }
      ],
      "source": [
        "#Q.1 Write a list in python that takes a list of numbers as input and returns the sum of all even numbers in the list.\n",
        "def sum_of_even_numbers(numbers):\n",
        "    even_numbers = filter(lambda x: x % 2 == 0, numbers) # Filter out the even numbers and then sum them up\n",
        "    return sum(even_numbers)\n",
        "numbers = [1, 2, 3, 4, 5, 6, 7, 8, 9, 10]\n",
        "result = sum_of_even_numbers(numbers)\n",
        "print(f\"The sum of even numbers in the list is: {result}\")\n"
      ]
    },
    {
      "cell_type": "code",
      "source": [
        "#Q.2 Create a python function that accepts a string and returns the reverse of that string.\n",
        "def reverse_string(s):\n",
        "    return s[::-1]\n",
        "input_string = \"gauri\"\n",
        "reversed_string = reverse_string(input_string)\n",
        "print(f\"The reverse of '{input_string}' is '{reversed_string}'\")\n"
      ],
      "metadata": {
        "colab": {
          "base_uri": "https://localhost:8080/"
        },
        "id": "Ph35Ughxbzmb",
        "outputId": "c320626c-436a-4648-c7f6-bc74d8f3a600"
      },
      "execution_count": null,
      "outputs": [
        {
          "output_type": "stream",
          "name": "stdout",
          "text": [
            "The reverse of 'gauri' is 'iruag'\n"
          ]
        }
      ]
    },
    {
      "cell_type": "code",
      "source": [
        "#Q.3 Implement a python function that takes a list of integers and returns a new list containing the squares of each number.\n",
        "def square_numbers(numbers):\n",
        "    return [x ** 2 for x in numbers]\n",
        "list = [1, 2, 3, 4, 5]\n",
        "result = square_numbers(numbers=list)\n",
        "print(f\"The squares of the numbers are: {result}\")\n"
      ],
      "metadata": {
        "colab": {
          "base_uri": "https://localhost:8080/"
        },
        "id": "Loq6ZAPdcX7O",
        "outputId": "f82e82b0-d942-4812-b0e6-2374918a0cb9"
      },
      "execution_count": null,
      "outputs": [
        {
          "output_type": "stream",
          "name": "stdout",
          "text": [
            "The squares of the numbers are: [1, 4, 9, 16, 25]\n"
          ]
        }
      ]
    },
    {
      "cell_type": "code",
      "source": [
        "#Q.4 Write a python function that checks if a given number is prime or not from 1 to 200.\n",
        "def is_prime(n):\n",
        "    if n <= 1:\n",
        "        return False\n",
        "    if n <= 3:\n",
        "        return True\n",
        "    if n % 2 == 0 or n % 3 == 0:\n",
        "        return False\n",
        "    i = 5\n",
        "    while i * i <= n:\n",
        "        if n % i == 0 or n % (i + 2) == 0:\n",
        "            return False\n",
        "        i += 6\n",
        "    return True\n",
        "\n",
        "def check_primes_up_to_200():\n",
        "    primes = [num for num in range(1, 201) if is_prime(num)]\n",
        "    return primes\n",
        "\n",
        "# Example usage\n",
        "primes_up_to_200 = check_primes_up_to_200()\n",
        "print(f\"Prime numbers from 1 to 200 are: {primes_up_to_200}\")\n"
      ],
      "metadata": {
        "colab": {
          "base_uri": "https://localhost:8080/"
        },
        "id": "6efn3ANedVNe",
        "outputId": "c3f52984-d87b-40b9-bc76-21cee9fd1898"
      },
      "execution_count": null,
      "outputs": [
        {
          "output_type": "stream",
          "name": "stdout",
          "text": [
            "Prime numbers from 1 to 200 are: [2, 3, 5, 7, 11, 13, 17, 19, 23, 29, 31, 37, 41, 43, 47, 53, 59, 61, 67, 71, 73, 79, 83, 89, 97, 101, 103, 107, 109, 113, 127, 131, 137, 139, 149, 151, 157, 163, 167, 173, 179, 181, 191, 193, 197, 199]\n"
          ]
        }
      ]
    },
    {
      "cell_type": "code",
      "source": [
        "#Q.5 Create an iterator class in python that generates the fibonacci sequence up to a specified number of terms.\n",
        "def fib_series(n):\n",
        "    series = []\n",
        "    a, b = 0, 1\n",
        "    while n > 0:\n",
        "        series.append(a)\n",
        "        a, b = b, a + b\n",
        "        n -= 1\n",
        "    return series\n",
        "num_terms = 10\n",
        "fib_series = fib_series(num_terms)\n",
        "print(f\"Fibonacci series up to {num_terms} terms: {fib_series}\")\n"
      ],
      "metadata": {
        "colab": {
          "base_uri": "https://localhost:8080/"
        },
        "id": "RDVRg7Gbf_zf",
        "outputId": "704b67e9-ba1b-4840-bda7-5219541b2144"
      },
      "execution_count": null,
      "outputs": [
        {
          "output_type": "stream",
          "name": "stdout",
          "text": [
            "Fibonacci series up to 10 terms: [0, 1, 1, 2, 3, 5, 8, 13, 21, 34]\n"
          ]
        }
      ]
    },
    {
      "cell_type": "code",
      "source": [
        "#Q.6 Write a generator function in Python that yields the power of 2 up to a given exponent.\n",
        "def powers_of_two(max_exponent):\n",
        "    exponent = 0\n",
        "    while exponent <= max_exponent:\n",
        "        yield 2 ** exponent\n",
        "        exponent += 1\n",
        "max_exponent = 5\n",
        "for power in powers_of_two(max_exponent):\n",
        "    print(power)\n"
      ],
      "metadata": {
        "colab": {
          "base_uri": "https://localhost:8080/"
        },
        "id": "3vXf3l4lhMPc",
        "outputId": "7c636643-8020-4e46-f7a2-22e92580b53a"
      },
      "execution_count": null,
      "outputs": [
        {
          "output_type": "stream",
          "name": "stdout",
          "text": [
            "1\n",
            "2\n",
            "4\n",
            "8\n",
            "16\n",
            "32\n"
          ]
        }
      ]
    },
    {
      "cell_type": "code",
      "source": [
        "#Q.7 Implement a generator function that reads a file line by line and yields each line as a string.\n",
        "def read_file_line_by_line(file_path):\n",
        "    try:\n",
        "        with open(file_path, 'r') as file:\n",
        "            for line in file:\n",
        "                yield line.rstrip('\\n')\n",
        "    except FileNotFoundError:\n",
        "        print(f\"The file {file_path} was not found.\")\n",
        "    except Exception as e:\n",
        "        print(f\"An error occurred: {e}\")\n",
        "file_path = 'example.txt'\n",
        "for line in read_file_line_by_line(file_path):\n",
        "    print(line)\n",
        "\n"
      ],
      "metadata": {
        "id": "_rdacuRZiB3x"
      },
      "execution_count": null,
      "outputs": []
    },
    {
      "cell_type": "code",
      "source": [
        "#Q.8 Use a lambda function in Python to sort a list of tuples based on the second element of each tuple.\n",
        "tuples_list = [(1, 3), (4, 1), (5, 2), (2, 4)]\n",
        "sorted_tuples = sorted(tuples_list, key=lambda x: x[1])\n",
        "\n",
        "print(\"Sorted list of tuples:\", sorted_tuples)\n"
      ],
      "metadata": {
        "colab": {
          "base_uri": "https://localhost:8080/"
        },
        "id": "9EoyW8SjGjqk",
        "outputId": "cc782722-a405-4bdd-ceee-ee8cd62c757b"
      },
      "execution_count": 1,
      "outputs": [
        {
          "output_type": "stream",
          "name": "stdout",
          "text": [
            "Sorted list of tuples: [(4, 1), (5, 2), (1, 3), (2, 4)]\n"
          ]
        }
      ]
    },
    {
      "cell_type": "code",
      "source": [
        "#Q.9 Write a Python program that uses `map()` to convert a list of temperatures from Celsius to Fahrenheit.\n",
        "def celsius_to_fahrenheit(celsius):\n",
        "    return (celsius * 9/5) + 32\n",
        "celsius_temperatures = [37, 45, 54, 78]\n",
        "fahrenheit_temperatures = list(map(celsius_to_fahrenheit, celsius_temperatures))\n",
        "print(fahrenheit_temperatures)\n"
      ],
      "metadata": {
        "colab": {
          "base_uri": "https://localhost:8080/"
        },
        "id": "nuQsR4BRML1p",
        "outputId": "2e456458-6e96-4b7e-8665-36c081733dcc"
      },
      "execution_count": 4,
      "outputs": [
        {
          "output_type": "stream",
          "name": "stdout",
          "text": [
            "[98.6, 113.0, 129.2, 172.4]\n"
          ]
        }
      ]
    },
    {
      "cell_type": "code",
      "source": [
        "#Q.10 Create a Python program that uses `filter()` to remove all the vowels from a given string.\n",
        "# Function to check if a character is a vowel\n",
        "def is_not_vowel(char):\n",
        "    vowels = 'aeiouAEIOU'\n",
        "    return char not in vowels\n",
        "\n",
        "# Input string\n",
        "input_string = \"Hello, World!\"\n",
        "\n",
        "# Use filter to remove vowels\n",
        "filtered_string = ''.join(filter(is_not_vowel, input_string))\n",
        "\n",
        "# Print the resulting string\n",
        "print(filtered_string)\n"
      ],
      "metadata": {
        "colab": {
          "base_uri": "https://localhost:8080/"
        },
        "id": "EZ8pnkhfP5xA",
        "outputId": "d34429ad-7cd1-49d2-9395-8cc7b54685d8"
      },
      "execution_count": 5,
      "outputs": [
        {
          "output_type": "stream",
          "name": "stdout",
          "text": [
            "Hll, Wrld!\n"
          ]
        }
      ]
    },
    {
      "cell_type": "code",
      "source": [
        " #Q.11 Imagine an accounting routine used in a book shop. It works on a list with sublists, which look like this:\n",
        " #Write a Python program, which returns a list with 2-tuples. Each tuple consists of the order number and the product of the price per item and the quantity. The product should be increased by 10,- € if the value of the\n",
        "#order is smaller than 100,00 €. Write a Python program using lambda and map.\n",
        "\n",
        "# Sample list of orders\n",
        "orders = [[34587, \"Learning Python\", 4, 45.50], [98762, \"Programming Python\", 5, 56.00], [77226, \"Head First Python\", 3, 32.95],[88112, \"Einführung in Python3\", 3, 24.99]]\n",
        "\n",
        "# Function to calculate the total cost with additional charge if needed\n",
        "calculate_total = lambda order: (order[0], order[2] * order[3] + (10 if order[2] * order[3] < 100 else 0))   # Order number\n",
        "\n",
        "# Applying the function to the list of orders using map\n",
        "order_totals = list(map(calculate_total, orders))\n",
        "\n",
        "# Print the resulting list of tuples\n",
        "print(order_totals)\n"
      ],
      "metadata": {
        "colab": {
          "base_uri": "https://localhost:8080/"
        },
        "id": "uQeTvokPQnc6",
        "outputId": "72c5cefa-9579-4231-fff9-d63c72265314"
      },
      "execution_count": 7,
      "outputs": [
        {
          "output_type": "stream",
          "name": "stdout",
          "text": [
            "[(34587, 182.0), (98762, 280.0), (77226, 108.85000000000001), (88112, 84.97)]\n"
          ]
        }
      ]
    }
  ]
}